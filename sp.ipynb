{
 "cells": [
  {
   "cell_type": "markdown",
   "metadata": {
    "id": "IWslSNDmQVaw"
   },
   "source": [
    "# Implement Spatial Pooler\n",
    "\n",
    "В данной тетради требуется реализовать Spatial Pooler по аналогии с [описанием](https://numenta.com/assets/pdf/spatial-pooling-algorithm/Spatial-Pooling-Algorithm-Details.pdf) и [статьёй](https://www.frontiersin.org/articles/10.3389/fncom.2017.00111/pdf) от нументы. Данная тетрадь сделана на основе [примера](https://github.com/htm-community/htm.core/blob/master/py/htm/examples/mnist.py) из нументовского фреймворка `htm.core`. Сам их фреймворк нам здесь не понадобится — его ставить не нужно, но можешь ради интереса к тестам ниже добавить и тест эталонной реализации Spatial Pooler.\n",
    "\n",
    "Для начала посмотри эпизоды 0-8 видео гайда [HTMSchool](https://www.youtube.com/watch?v=XMB0ri4qgwc&list=PL3yXMgtrZmDqhsFQzwUC9V8MeeVOQ7eZ9)."
   ]
  },
  {
   "cell_type": "markdown",
   "metadata": {
    "id": "AjVy5hZKQVa3"
   },
   "source": [
    "## 01. Getting ready\n",
    "\n",
    "Данная секция содержит:\n",
    "\n",
    "- импорт необходимых пакетов (убедись, что все они установлены)\n",
    "- загрузка датасета"
   ]
  },
  {
   "cell_type": "code",
   "execution_count": 1,
   "metadata": {
    "executionInfo": {
     "elapsed": 968,
     "status": "ok",
     "timestamp": 1704287393640,
     "user": {
      "displayName": "Salaar Kabir",
      "userId": "05336106162826019869"
     },
     "user_tz": -180
    },
    "id": "Ch474EDFQVa7"
   },
   "outputs": [],
   "source": [
    "import numpy as np\n",
    "import matplotlib.pyplot as plt\n",
    "import numpy as np\n",
    "import time\n",
    "from IPython.display import clear_output\n",
    "\n",
    "from sklearn.datasets import fetch_openml\n",
    "from sklearn.linear_model import LogisticRegression\n",
    "from scipy.sparse import csr_matrix\n",
    "%matplotlib inline\n",
    "\n",
    "seed = 1337"
   ]
  },
  {
   "cell_type": "markdown",
   "metadata": {
    "id": "4X6cYCyEQVa-"
   },
   "source": [
    "### Load data\n",
    "\n",
    "Следующая ячейка загружает датасет MNIST (займет порядка 10-20 сек)."
   ]
  },
  {
   "cell_type": "code",
   "execution_count": 2,
   "metadata": {
    "colab": {
     "base_uri": "https://localhost:8080/"
    },
    "executionInfo": {
     "elapsed": 15206,
     "status": "ok",
     "timestamp": 1704287408844,
     "user": {
      "displayName": "Salaar Kabir",
      "userId": "05336106162826019869"
     },
     "user_tz": -180
    },
    "id": "s98mPovsQVbA",
    "outputId": "26718af0-97aa-4005-f2d5-a19f212c58f0"
   },
   "outputs": [
    {
     "name": "stdout",
     "output_type": "stream",
     "text": [
      "(70000, 28, 28) (70000,)\n"
     ]
    },
    {
     "data": {
      "text/plain": [
       "((60000, 28, 28), (60000,), (10000, 28, 28), (10000,))"
      ]
     },
     "execution_count": 2,
     "metadata": {},
     "output_type": "execute_result"
    }
   ],
   "source": [
    "def load_ds(rng, name, num_test, shape=None):\n",
    "    \"\"\"\n",
    "    fetch dataset from openML.org and split to train/test\n",
    "    @param name - ID on openML (eg. 'mnist_784')\n",
    "    @param num_test - num. samples to take as test\n",
    "    @param shape - new reshape of a single data point (ie data['data'][0]) as a list. Eg. [28,28] for MNIST\n",
    "    \"\"\"\n",
    "    data = fetch_openml(name, version=1, parser='auto')\n",
    "    sz=data['target'].shape[0]\n",
    "\n",
    "    X = np.array(data['data'])\n",
    "    if shape is not None:\n",
    "        new_shape = shape.insert(0, sz)\n",
    "        X = np.reshape(X, shape)\n",
    "\n",
    "    y = np.array(data['target']).astype(np.int32)\n",
    "    print(X.shape, y.shape)\n",
    "\n",
    "    indices = rng.permutation(y.size)\n",
    "    X = X[indices, :, :]\n",
    "    y = y[indices]\n",
    "\n",
    "    # split to train/test data\n",
    "    train_labels = y[:sz-num_test]\n",
    "    train_images = X[:sz-num_test]\n",
    "    test_labels  = y[sz-num_test:]\n",
    "    test_images  = X[sz-num_test:]\n",
    "\n",
    "    return train_labels, train_images, test_labels, test_images\n",
    "\n",
    "rng = np.random.default_rng(seed)\n",
    "train_labels, train_images, test_labels, test_images = load_ds(rng, 'mnist_784', 10000, shape=[28,28])\n",
    "\n",
    "n_train_samples = train_images.shape[0]\n",
    "n_test_samples = test_images.shape[0]\n",
    "image_shape = train_images[0].shape\n",
    "image_side = image_shape[0]\n",
    "image_size = image_side ** 2\n",
    "\n",
    "\n",
    "train_images.shape, train_labels.shape, test_images.shape, test_labels.shape"
   ]
  },
  {
   "cell_type": "markdown",
   "metadata": {
    "id": "1P_4S2enQVbB"
   },
   "source": [
    "Пример формата данных датасета"
   ]
  },
  {
   "cell_type": "code",
   "execution_count": 3,
   "metadata": {
    "colab": {
     "base_uri": "https://localhost:8080/",
     "height": 499
    },
    "executionInfo": {
     "elapsed": 16,
     "status": "ok",
     "timestamp": 1704287408845,
     "user": {
      "displayName": "Salaar Kabir",
      "userId": "05336106162826019869"
     },
     "user_tz": -180
    },
    "id": "52XIcZAuQVbC",
    "outputId": "40a46265-9229-4449-e0ff-9ac046e3b022"
   },
   "outputs": [
    {
     "name": "stdout",
     "output_type": "stream",
     "text": [
      "Label: 5\n",
      "Image shape: (28, 28)\n",
      "Image middle row: [  0   0   0   0   0   0   0   0   0   0   0   0   0   0   0   0   0   0\n",
      " 145 253  53   0   0   0   0   0   0   0]\n"
     ]
    },
    {
     "data": {
      "image/png": "[encoded data removed]",
      "text/plain": [
       "<Figure size 640x480 with 1 Axes>"
      ]
     },
     "metadata": {},
     "output_type": "display_data"
    }
   ],
   "source": [
    "ind = 1\n",
    "plt.imshow(train_images[ind])\n",
    "print(f'Label: {train_labels[ind]}')\n",
    "print(f'Image shape: {image_shape}')\n",
    "print(f'Image middle row: {train_images[ind][image_side//2]}')"
   ]
  },
  {
   "cell_type": "markdown",
   "metadata": {
    "id": "NEtGUW34QVbD"
   },
   "source": [
    "Перекодируем датасет в бинарные изображения и дальше будем работать с бинарными данными."
   ]
  },
  {
   "cell_type": "code",
   "execution_count": 4,
   "metadata": {
    "colab": {
     "base_uri": "https://localhost:8080/",
     "height": 430
    },
    "executionInfo": {
     "elapsed": 13,
     "status": "ok",
     "timestamp": 1704287408845,
     "user": {
      "displayName": "Salaar Kabir",
      "userId": "05336106162826019869"
     },
     "user_tz": -180
    },
    "id": "lt14TbhCQVbD",
    "outputId": "f7ffb09d-edb1-4cec-c4a9-e82d7b82dd2a"
   },
   "outputs": [
    {
     "data": {
      "image/png": "[encoded data removed]",
      "text/plain": [
       "<Figure size 640x480 with 1 Axes>"
      ]
     },
     "metadata": {},
     "output_type": "display_data"
    }
   ],
   "source": [
    "def plot_flatten_image(flatten_image, image_height=28):\n",
    "    plt.imshow(flatten_image.reshape((image_height, -1)))\n",
    "\n",
    "def to_binary_flatten_images(images):\n",
    "    n_samples = images.shape[0]\n",
    "    # flatten every image to vector\n",
    "    images = images.reshape((n_samples, -1))\n",
    "    # binary encoding: each image pixel is encoded either 0 or 1 depending on that image mean value\n",
    "    images = (images >= images.mean(axis=1, keepdims=True)).astype(np.int8)\n",
    "    return images\n",
    "\n",
    "\n",
    "train_images = to_binary_flatten_images(train_images)\n",
    "test_images = to_binary_flatten_images(test_images)\n",
    "plot_flatten_image(train_images[ind])"
   ]
  },
  {
   "cell_type": "markdown",
   "metadata": {
    "id": "0V2oGsjfQVbF"
   },
   "source": [
    "## 02. Baseline: classifier on raw input\n",
    "\n",
    "В качестве бейзлайна возьмем стандартный sklearn'овский логрег классификатор"
   ]
  },
  {
   "cell_type": "code",
   "execution_count": 5,
   "metadata": {
    "executionInfo": {
     "elapsed": 10,
     "status": "ok",
     "timestamp": 1704287408845,
     "user": {
      "displayName": "Salaar Kabir",
      "userId": "05336106162826019869"
     },
     "user_tz": -180
    },
    "id": "huXYUaKtQVbG"
   },
   "outputs": [],
   "source": [
    "LBFGS_MAX_ITER = 1_000"
   ]
  },
  {
   "cell_type": "code",
   "execution_count": 6,
   "metadata": {
    "colab": {
     "base_uri": "https://localhost:8080/"
    },
    "executionInfo": {
     "elapsed": 1255,
     "status": "ok",
     "timestamp": 1704287410090,
     "user": {
      "displayName": "Salaar Kabir",
      "userId": "05336106162826019869"
     },
     "user_tz": -180
    },
    "id": "jPLcE0m1QVbH",
    "outputId": "1acce7b9-efe8-4696-c6a2-a5f658041c50"
   },
   "outputs": [
    {
     "name": "stdout",
     "output_type": "stream",
     "text": [
      "Score: 87.4%\n",
      "CPU times: total: 2.09 s\n",
      "Wall time: 1.19 s\n"
     ]
    }
   ],
   "source": [
    "%%time\n",
    "\n",
    "def test_bare_classification(x_tr,  y_tr, x_tst, y_tst):\n",
    "    linreg = LogisticRegression(tol=.05, max_iter=LBFGS_MAX_ITER, multi_class='multinomial', penalty='l2', solver='lbfgs', n_jobs=1)\n",
    "    linreg.fit(x_tr, y_tr)\n",
    "\n",
    "    score = linreg.predict(x_tst) == y_tst\n",
    "    score = score.mean()\n",
    "    print(f'Score: {100 * score:.1f}%')\n",
    "    return score\n",
    "\n",
    "np.random.seed(seed)\n",
    "# for debug purposes I chose smaller subset of the train/test set, you can set the whole set of 60k training samples\n",
    "n = 1_000\n",
    "x_tr, y_tr = train_images[:n], train_labels[:n]\n",
    "x_tst, y_tst = test_images[:n], test_labels[:n]\n",
    "\n",
    "# примерные/ориентировочные результаты\n",
    "# 1k: 87.4; 888ms\n",
    "# 60k: 91.4; 1.5min\n",
    "_ = test_bare_classification(x_tr, y_tr, x_tst, y_tst)"
   ]
  },
  {
   "cell_type": "markdown",
   "metadata": {
    "id": "Azap6PmhQVbH"
   },
   "source": [
    "## 03. Spatial Pooler: skeleton\n",
    "\n",
    "Временно сделаем пустой класс Spatial Pooler'а заглушку, чтобы дальше ввести весь необходимый auxiliary код для обучения и тестирования."
   ]
  },
  {
   "cell_type": "code",
   "execution_count": 7,
   "metadata": {
    "colab": {
     "base_uri": "https://localhost:8080/"
    },
    "executionInfo": {
     "elapsed": 9,
     "status": "ok",
     "timestamp": 1704287410091,
     "user": {
      "displayName": "Salaar Kabir",
      "userId": "05336106162826019869"
     },
     "user_tz": -180
    },
    "id": "NTwjDiroQVbI",
    "outputId": "b41fe9c3-a948-4b98-b653-db577371a2cd"
   },
   "outputs": [
    {
     "name": "stdout",
     "output_type": "stream",
     "text": [
      "91 784\n"
     ]
    }
   ],
   "source": [
    "class NoOpSpatialPooler:\n",
    "    def __init__(self, input_size):\n",
    "        self.input_size = input_size\n",
    "        self.output_size = input_size\n",
    "\n",
    "    def compute(self, dense_sdr, learn):\n",
    "        # просто отдает вход на выход\n",
    "        return np.flatnonzero(dense_sdr)\n",
    "\n",
    "\n",
    "np.random.seed(seed)\n",
    "sp = NoOpSpatialPooler(train_images[0].size)\n",
    "sparse_sdr = sp.compute(train_images[0], True)\n",
    "\n",
    "print(sparse_sdr.size, sp.output_size)\n",
    "assert sparse_sdr.size < sp.output_size"
   ]
  },
  {
   "cell_type": "markdown",
   "metadata": {
    "id": "iWQmv3lbQVbQ"
   },
   "source": [
    "## 04. Train/test SP performance aux pipeline\n",
    "\n",
    "Ниже непосредственно код для обучения и тестирования классификации с использованием Spatial Pooler'а. Общая схема следующая - мы обучаем SP на train set'е, а дальше SDR векторы на выходе из SP используем в кач-ве входных данных для логрег классификатора в надежде, что эти данные разделимы еще лучше, то есть что качество классификации улучшится.\n",
    "\n",
    "__NB__: Не удивляйся, в реализации ниже обучение идет в немного полуонлайн режиме - делается небольшой претрейн, а потом полностью онлайн. Претрейн делаем для прогрева SP, тк на ранних стадиях обучения он слишком сильно меняет выходную кодировку."
   ]
  },
  {
   "cell_type": "code",
   "execution_count": 8,
   "metadata": {
    "colab": {
     "base_uri": "https://localhost:8080/"
    },
    "executionInfo": {
     "elapsed": 8083,
     "status": "ok",
     "timestamp": 1704287418170,
     "user": {
      "displayName": "Salaar Kabir",
      "userId": "05336106162826019869"
     },
     "user_tz": -180
    },
    "id": "Y99i3HnhQVbR",
    "outputId": "272ac23b-0fee-4e7b-d165-3149d45ea5b7"
   },
   "outputs": [
    {
     "name": "stdout",
     "output_type": "stream",
     "text": [
      "Score: 87.4% for n = 1000\n",
      "CPU times: total: 328 ms\n",
      "Wall time: 10.9 s\n"
     ]
    },
    {
     "data": {
      "text/plain": [
       "0.874"
      ]
     },
     "execution_count": 8,
     "metadata": {},
     "output_type": "execute_result"
    }
   ],
   "source": [
    "%%time\n",
    "\n",
    "def pretrain_sp(sp, images, n_samples):\n",
    "\n",
    "    for img in images[:n_samples]:\n",
    "        sp.compute(img, True)\n",
    "\n",
    "def encode_to_csr_with_sp(images, sp, learn):\n",
    "    flatten_encoded_sdrs = []\n",
    "    indptr = [0]\n",
    "    for img in images:\n",
    "        encoded_sparse_sdr = sp.compute(img, learn)\n",
    "        flatten_encoded_sdrs.extend(encoded_sparse_sdr)\n",
    "        indptr.append(len(flatten_encoded_sdrs))\n",
    "\n",
    "    data = np.ones(len(flatten_encoded_sdrs))\n",
    "    csr = csr_matrix((data, flatten_encoded_sdrs, indptr), shape=(images.shape[0], sp.output_size))\n",
    "    return csr\n",
    "\n",
    "def test_classification_with_sp(x_tr,  y_tr, x_tst, y_tst, sp):\n",
    "    # a small pretrain SP before real work\n",
    "    pretrain_sp(sp, x_tr, n_samples=1000)\n",
    "\n",
    "    # encode images and continuously train SP\n",
    "    csr = encode_to_csr_with_sp(x_tr, sp, learn=True)\n",
    "\n",
    "    # train linreg\n",
    "    linreg = LogisticRegression(tol=.05, max_iter=LBFGS_MAX_ITER, multi_class='multinomial', penalty='l2', solver='lbfgs', n_jobs=3)\n",
    "    linreg.fit(csr, y_tr)\n",
    "\n",
    "    # encode test images (without SP learning) and then test score\n",
    "    csr = encode_to_csr_with_sp(x_tst, sp, False)\n",
    "    score = linreg.predict(csr) == y_tst\n",
    "    score = score.mean()\n",
    "    print(f'Score: {100 * score:.1f}% for n = {len(x_tr)}')\n",
    "    return score\n",
    "\n",
    "n = 1000\n",
    "x_tr, y_tr = train_images[:n], train_labels[:n]\n",
    "x_tst, y_tst = test_images[:n], test_labels[:n]\n",
    "my_sp = NoOpSpatialPooler(train_images[0].size)\n",
    "\n",
    "# 87.3; 1.16s\n",
    "test_classification_with_sp(x_tr, y_tr, x_tst, y_tst, my_sp)"
   ]
  },
  {
   "cell_type": "markdown",
   "metadata": {
    "id": "0vRMcgDTQVbS"
   },
   "source": [
    "## 05. Spatial Pooler: learning\n",
    "\n",
    "__Здесь начинается практическое задание__\n",
    "\n",
    "В этой части требуется реализовать простую версию SP с обучением как описано в видео htm scool до бустинга (т.е. бустинг пока не нужен)."
   ]
  },
  {
   "cell_type": "code",
   "execution_count": 19,
   "metadata": {
    "colab": {
     "base_uri": "https://localhost:8080/"
    },
    "executionInfo": {
     "elapsed": 13,
     "status": "ok",
     "timestamp": 1704287418170,
     "user": {
      "displayName": "Salaar Kabir",
      "userId": "05336106162826019869"
     },
     "user_tz": -180
    },
    "id": "Q-kaUHRtQVbS",
    "outputId": "27e7f6d7-557d-4e28-8864-9300df7320a7"
   },
   "outputs": [
    {
     "name": "stdout",
     "output_type": "stream",
     "text": [
      "[16 44 30 22]\n",
      "4 100 4\n"
     ]
    },
    {
     "data": {
      "text/plain": [
       "array([16, 44, 30, 22], dtype=int64)"
      ]
     },
     "execution_count": 19,
     "metadata": {},
     "output_type": "execute_result"
    }
   ],
   "source": [
    "class LearnableSpatialPooler:\n",
    "    def __init__(\n",
    "        self, input_size, output_size, permanence_threshold, output_sparsity, synapse_permanence_deltas, receptive_field_sparsity\n",
    "    ):\n",
    "        '''\n",
    "        params:\n",
    "            `input_size` - the size of the input SDR\n",
    "            `output_size` - the size of the output SDR\n",
    "            `permanence_threshold` - value in [0, 1], defines whether or not a connection is active\n",
    "            `output_sparsity` - value in [0, 1], defines desired output SDR sparsity, e.g. 0.02 is 2% sparsity\n",
    "            `synapse_permanence_deltas` - tuple of (p+, p-), defines permanence increment/decrement for learning\n",
    "            `receptive_field_sparsity` - value in [0, 1], defines the fraction of _potential_ synapses\n",
    "        '''\n",
    "        self.input_size = input_size\n",
    "        self.output_size = output_size\n",
    "        self.permanence_threshold = permanence_threshold\n",
    "        self.output_sparsity = output_sparsity\n",
    "        self.p_increment, self.p_decrement = synapse_permanence_deltas\n",
    "        self.receptive_field_sparsity = receptive_field_sparsity\n",
    "\n",
    "        # number of potential synapses\n",
    "        self.n_potential_synapses = int(input_size*receptive_field_sparsity)\n",
    "\n",
    "        # indices of potential synapses\n",
    "        self.potential_synapses_idx = np.stack([np.random.choice(input_size, self.n_potential_synapses, replace=False) for _ in range(output_size)])\n",
    "\n",
    "        # Note: instead of synapses (associated with one column) representing a subset of input, I considered them representing the whole input for simplicity\n",
    "        # defining synapses permanence within a small range aroung permanence threshold\n",
    "        self.synapses_permanence = np.random.uniform(permanence_threshold-0.1,permanence_threshold+0.1,size=(output_size,self.n_potential_synapses))\n",
    "\n",
    "        # defining number of \"activated columns\"\n",
    "        self.n_active_bits = int(output_sparsity * output_size)\n",
    "\n",
    "        # defining activation frequency\n",
    "        self.cols_activation_freq = np.zeros(output_size)\n",
    "\n",
    "        # counting how many times learning will be done\n",
    "        self.count = 0\n",
    "\n",
    "    def compute(self, dense_sdr, learn):\n",
    "        '''\n",
    "        params:\n",
    "            `dense_sdr` - input SDR in dense for, i.e. as np.array\n",
    "            `learn` - bool flag, whether or not to do a learning step\n",
    "\n",
    "        returns:\n",
    "            a list of activated columns indices\n",
    "        '''\n",
    "\n",
    "        # defining \"active_synapses\"; a binary matrix with 1 = active synapse and 0 = inactive synapse\n",
    "        active_synapses = (self.synapses_permanence>self.permanence_threshold)*dense_sdr[self.potential_synapses_idx]\n",
    "\n",
    "        # defining \"overlap scores\"; number of \"active synapses\" in each column\n",
    "        overlap_scores = np.sum(active_synapses, axis=1)\n",
    "\n",
    "        ## global inhibition process\n",
    "        # indices of \"n_active_bits\" columns with maximum overlap scores\n",
    "        activated_cols = np.argpartition(overlap_scores,-self.n_active_bits)[-self.n_active_bits:]\n",
    "        print(activated_cols)\n",
    "        ## learning process\n",
    "        if learn:\n",
    "            self.count += 1\n",
    "            for col in activated_cols:\n",
    "                # incrementing permanence for active synapse\n",
    "                self.synapses_permanence[col, active_synapses[col,:]==1] += self.p_increment\n",
    "                # decrementing permanence for inactive synapse\n",
    "                self.synapses_permanence[col, active_synapses[col,:]==0] -= self.p_decrement\n",
    "\n",
    "            # clipping permanence values to be within [0,1]\n",
    "            self.synapses_permanence = np.clip(self.synapses_permanence, 0, 1)\n",
    "\n",
    "            # updating activation frequency\n",
    "            self.cols_activation_freq[activated_cols] += 1\n",
    "            \n",
    "        # returning indices of active columns\n",
    "        return activated_cols\n",
    "\n",
    "np.random.seed(seed)\n",
    "sp = LearnableSpatialPooler(\n",
    "    input_size=train_images[0].size,\n",
    "    output_size=10**2,\n",
    "    permanence_threshold=.5,\n",
    "    output_sparsity=.04,\n",
    "    synapse_permanence_deltas=(.1, .03),\n",
    "    receptive_field_sparsity=.8\n",
    ")\n",
    "\n",
    "sparse_sdr = sp.compute(train_images[0], True)\n",
    "\n",
    "print(sparse_sdr.size, sp.output_size, sp.n_active_bits)\n",
    "assert sparse_sdr.size == sp.n_active_bits\n",
    "sparse_sdr"
   ]
  },
  {
   "cell_type": "markdown",
   "metadata": {
    "id": "bN_GlkRhQVbT"
   },
   "source": [
    "### 05.1. Naive SP performance\n",
    "\n",
    "Проверь качество работы своей реализации. В комментариях примерные значения для разных `n`, на которые можно попробовать ориентироваться:"
   ]
  },
  {
   "cell_type": "code",
   "execution_count": 10,
   "metadata": {
    "colab": {
     "base_uri": "https://localhost:8080/"
    },
    "executionInfo": {
     "elapsed": 22662,
     "status": "ok",
     "timestamp": 1704287440823,
     "user": {
      "displayName": "Salaar Kabir",
      "userId": "05336106162826019869"
     },
     "user_tz": -180
    },
    "id": "TYK0cEufQVbU",
    "outputId": "62ee9104-1d34-46f4-8fc2-f09aee565f41"
   },
   "outputs": [
    {
     "name": "stdout",
     "output_type": "stream",
     "text": [
      "Score: 86.3% for n = 1000\n",
      "CPU times: total: 31.1 s\n",
      "Wall time: 34.4 s\n"
     ]
    },
    {
     "data": {
      "text/plain": [
       "0.863"
      ]
     },
     "execution_count": 10,
     "metadata": {},
     "output_type": "execute_result"
    }
   ],
   "source": [
    "%%time\n",
    "\n",
    "np.random.seed(seed)\n",
    "n = 1_000\n",
    "x_tr, y_tr = train_images[:n], train_labels[:n]\n",
    "x_tst, y_tst = test_images[:n], test_labels[:n]\n",
    "\n",
    "sp = LearnableSpatialPooler(\n",
    "    input_size=train_images[0].size,\n",
    "    output_size=30**2,\n",
    "    permanence_threshold=.5,\n",
    "    output_sparsity=.04,\n",
    "    synapse_permanence_deltas=(.1, .03),\n",
    "    receptive_field_sparsity=.8\n",
    ")\n",
    "# 1k: 80.2; 2.98s\n",
    "# 60k: 89.3; 72 s\n",
    "test_classification_with_sp(x_tr, y_tr, x_tst, y_tst, sp)"
   ]
  },
  {
   "cell_type": "markdown",
   "metadata": {
    "id": "w8DP2WoLQVbU"
   },
   "source": [
    "Интересная метрика оценки качества работы SP и вырожденности датасета - энтропия выходных активаций.\n",
    "\n",
    "Добавь либо в реализацию класса, либо где-то сбоку возможность учета статистики активаций выходных клеток (ты наверняка заметил, что обычно их контринтуитивно называют столбцами, что оч круто запутывает) и функцию подсчета энтропии на основе этой статистики. Собери такую статистику на одном прогоне на всем датасете и:\n",
    "\n",
    "- нарисуй гистограмму частоты активаций (с нормализацией, чтобы по оси Y были вероятности активации, а не их число)\n",
    "- посчитай энтропию $H = -\\sum p \\cdot \\log p$"
   ]
  },
  {
   "cell_type": "code",
   "execution_count": 11,
   "metadata": {
    "executionInfo": {
     "elapsed": 11,
     "status": "ok",
     "timestamp": 1704287440824,
     "user": {
      "displayName": "Salaar Kabir",
      "userId": "05336106162826019869"
     },
     "user_tz": -180
    },
    "id": "UqLkSAddQVbV"
   },
   "outputs": [],
   "source": [
    "def plot_activation_prob(activation_freq,divider):\n",
    "    # calculating activation probabilities\n",
    "    activation_prob = activation_freq/divider\n",
    "\n",
    "    # calculating entropy\n",
    "    entropy = -np.sum(activation_prob*np.log2(activation_prob+1e-6))\n",
    "    print(f\"Entropy: {entropy:.4f}\")\n",
    "\n",
    "    # plotting activation frequency of columns\n",
    "    plt.figure(figsize=(15,10))\n",
    "    plt.bar(range(sp.output_size),activation_prob)\n",
    "    plt.xlabel(\"Columns\")\n",
    "    plt.ylabel(\"Activation Probability\")\n",
    "    plt.title(\"Activation Frequency of Columns\")\n",
    "    plt.show()"
   ]
  },
  {
   "cell_type": "code",
   "execution_count": 12,
   "metadata": {
    "colab": {
     "base_uri": "https://localhost:8080/",
     "height": 889
    },
    "executionInfo": {
     "elapsed": 1446,
     "status": "ok",
     "timestamp": 1704287442261,
     "user": {
      "displayName": "Salaar Kabir",
      "userId": "05336106162826019869"
     },
     "user_tz": -180
    },
    "id": "QH-hp2MkQVbV",
    "outputId": "fe797f9c-e993-44cd-a2ab-f9cd6b71a9c6"
   },
   "outputs": [
    {
     "name": "stdout",
     "output_type": "stream",
     "text": [
      "Entropy: 151.4776\n"
     ]
    },
    {
     "data": {
      "image/png": "[encoded data removed]",
      "text/plain": [
       "<Figure size 1500x1000 with 1 Axes>"
      ]
     },
     "metadata": {},
     "output_type": "display_data"
    }
   ],
   "source": [
    "plot_activation_prob(sp.cols_activation_freq,sp.count)"
   ]
  },
  {
   "cell_type": "markdown",
   "metadata": {
    "id": "-Lo2tw8cQVbW"
   },
   "source": [
    "Теперь давай посмотрим, как выходной размер `output_size` влияет на качество работы. Протестируй разные значения `output_size` - например, $[10^2, 15^2,..., 55^2, 60^2]$ и отрисуй график зависимости [качества классификации, но можешь и времени работы тоже].\n",
    "\n",
    "_Можно для начала прикинуть для n=1000 и двигаться дальше, а позже пересчитать на всем датасете_"
   ]
  },
  {
   "cell_type": "code",
   "execution_count": null,
   "metadata": {
    "colab": {
     "base_uri": "https://localhost:8080/",
     "height": 663
    },
    "executionInfo": {
     "elapsed": 245524,
     "status": "ok",
     "timestamp": 1704274661033,
     "user": {
      "displayName": "Salaar Kabir",
      "userId": "05336106162826019869"
     },
     "user_tz": -180
    },
    "id": "ScuTnM3QQVbY",
    "outputId": "034f9023-1971-4ed2-8c3f-4c6639202c4c"
   },
   "outputs": [],
   "source": []
  },
  {
   "cell_type": "markdown",
   "metadata": {
    "id": "BqMxhAANQVbZ"
   },
   "source": [
    "## 06. Spatial Pooler: boosting\n",
    "\n",
    "В этом пункте требуется реализовать бустинг. Обрати внимание, в видео htm school речь ведется о бустинге overlap score на основе активности выходных ячеек -  именно такой вид бустинга и нужно реализовать. Еще есть бустинг значений permanence синапсов выходных ячеек, имеющих слишком низкое среднее значение overlap score за последние N итераций - рассмотрение этого вида бустинга оставим в стороне. Так что дальше под бустингом будет иметься в виду только первый вариант.\n",
    "\n",
    "Зададим параметр `max_boost_factor` $\\in [0, +\\infty)$. Можно по-разному задавать интерпретацию этого параметра, то есть как будет действовать бустинг. Например, можно дать возможность бустингу работать только в сторону усиления слабых — тогда параметр `max_boost_factor` $=K$ определяет, что значения overlap score под действием бустинга могут быть увеличены максимум в $1+K$ раз. То есть `max_boost_factor`$=1$ означает, что оверлапы могут быть увеличены максимум в два раза, а 0 — что бустинг отключен.\n",
    "\n",
    "Однако допустима и реализация, в которой бустинг работает в обе стороны — слабые колонки усиливает, а сильные наоборот ослабляет, и тогда пределы изменения для величины `max_boost_factor` $=K$: $[\\frac{1}{K}, K]$, то есть бустинг может и усилить, и ослабить максимум в $K$ раз. В своей реализации выбери любой из этих вариантов."
   ]
  },
  {
   "cell_type": "code",
   "execution_count": 26,
   "metadata": {
    "colab": {
     "base_uri": "https://localhost:8080/"
    },
    "executionInfo": {
     "elapsed": 229,
     "status": "ok",
     "timestamp": 1704287717086,
     "user": {
      "displayName": "Salaar Kabir",
      "userId": "05336106162826019869"
     },
     "user_tz": -180
    },
    "id": "UJ6MzQ0MQVbZ",
    "outputId": "8fb7fdb4-abe5-401f-bc0c-8435ec9e87c0"
   },
   "outputs": [
    {
     "data": {
      "text/plain": [
       "array([16, 44, 30, 22], dtype=int64)"
      ]
     },
     "execution_count": 26,
     "metadata": {},
     "output_type": "execute_result"
    }
   ],
   "source": [
    "class BoostedSpatialPooler:\n",
    "    def __init__(\n",
    "        self, input_size, output_size, permanence_threshold, output_sparsity, synapse_permanence_deltas, receptive_field_sparsity,\n",
    "        max_boost_factor, boost_sliding_window\n",
    "    ):\n",
    "        '''\n",
    "        params:\n",
    "            `input_size` - the size of the input SDR\n",
    "            `output_size` - the size of the output SDR\n",
    "            `permanence_threshold` - value in [0, 1], defines whether or not a connection is active\n",
    "            `output_sparsity` - value in [0, 1], defines desired output SDR sparsity, e.g. 0.02 is 2% sparsity\n",
    "            `synapse_permanence_deltas` - tuple of (p+, p-), defines permanence increment/decrement for learning\n",
    "            `receptive_field_sparsity` - value in [0, 1], defines the fraction of _potential_ synapses\n",
    "            `max_boost_factor` - value in [0, +inf), defines maximum allowed boosting. Boosting value X > 0 (X < 0) means that overlap is multiplied (divided) by `1 + X`.\n",
    "            `boost_sliding_window` - value in [1, +inf), defines the size of the window for moving avg output column activity\n",
    "        '''\n",
    "        self.input_size = input_size\n",
    "        self.output_size = output_size\n",
    "        self.input_size = input_size\n",
    "        self.output_size = output_size\n",
    "        self.permanence_threshold = permanence_threshold\n",
    "        self.output_sparsity = output_sparsity\n",
    "        self.p_increment, self.p_decrement = synapse_permanence_deltas\n",
    "        self.receptive_field_sparsity = receptive_field_sparsity\n",
    "        self.max_boost_factor = max_boost_factor\n",
    "        self.boost_sliding_window = boost_sliding_window\n",
    "\n",
    "        # number of potential synapses\n",
    "        self.n_potential_synapses = int(input_size*receptive_field_sparsity)\n",
    "\n",
    "        # indices of potential synapses\n",
    "        self.potential_synapses_idx = np.stack([np.random.choice(input_size, self.n_potential_synapses, replace=False) for _ in range(output_size)])\n",
    "\n",
    "        # Note: instead of synapses (associated with one column) representing a subset of input, I considered them representing the whole input for simplicity\n",
    "        # defining synapses permanence within a small range aroung permanence threshold\n",
    "        self.synapses_permanence = np.random.uniform(permanence_threshold-0.1,permanence_threshold+0.1,size=(output_size,self.n_potential_synapses))\n",
    "\n",
    "        # defining number of \"activated columns\"\n",
    "        self.n_active_bits = int(output_sparsity * output_size)\n",
    "\n",
    "        # defining activation frequency\n",
    "        self.cols_activation_freq = np.zeros(output_size)\n",
    "\n",
    "        # counting how many times learning will be done\n",
    "        self.count = 0\n",
    "\n",
    "        # defining sliding window to account for past active columns\n",
    "        self.active_cols_window = np.zeros((boost_sliding_window,self.output_size))\n",
    "        \n",
    "    def boosting(self, overlap_scores):\n",
    "        '''\n",
    "        params:\n",
    "            `overlap_scores` - number of \"active synapses\" in each column\n",
    "\n",
    "        returns:\n",
    "            boosted overlap scores\n",
    "        '''\n",
    "\n",
    "        # calculating boost factor for each column\n",
    "        boost_factors = (1-np.mean(self.active_cols_window,axis=0))*self.max_boost_factor\n",
    "\n",
    "        # returning boosted overlap scores\n",
    "        return overlap_scores*(1+boost_factors)\n",
    "\n",
    "    def compute(self, dense_sdr, learn):\n",
    "        '''\n",
    "        params:\n",
    "            `dense_sdr` - input SDR in dense for, i.e. as np.array\n",
    "            `learn` - bool flag, whether or not to do a learning step\n",
    "\n",
    "        returns:\n",
    "            a list of activated columns indices\n",
    "        '''\n",
    "        # defining \"active_synapses\"; a binary matrix with 1 = active synapse and 0 = inactive synapse\n",
    "        active_synapses = (self.synapses_permanence>self.permanence_threshold)*dense_sdr[self.potential_synapses_idx]\n",
    "\n",
    "        # defining \"overlap scores\"; number of \"active synapses\" in each column\n",
    "        overlap_scores = np.sum(active_synapses, axis=1)\n",
    "\n",
    "        # applying boosting\n",
    "        boosted_overlap_scores  = self.boosting(overlap_scores)\n",
    "\n",
    "        ## global inhibition process\n",
    "        # indices of \"n_active_bits\" winner columns with maximum overlap scores\n",
    "        activated_cols = np.argpartition(boosted_overlap_scores,-self.n_active_bits)[-self.n_active_bits:]\n",
    "\n",
    "        ## learning process\n",
    "        if learn:\n",
    "            self.count += 1\n",
    "            # updating synapses' permanence using Hebbian-style learning\n",
    "            for col in activated_cols:\n",
    "                # incrementing permanence for active synapse\n",
    "                self.synapses_permanence[col, active_synapses[col,:]==1] += self.p_increment\n",
    "                # decrementing permanence for inactive synapse\n",
    "                self.synapses_permanence[col, active_synapses[col,:]==0] -= self.p_decrement\n",
    "\n",
    "            # clipping permanence values to be within [0,1]\n",
    "            self.synapses_permanence = np.clip(self.synapses_permanence, 0, 1)\n",
    "\n",
    "            # updating activation frequency\n",
    "            self.cols_activation_freq[activated_cols] += 1\n",
    "\n",
    "            # updating sliding window of active columns\n",
    "            self.active_cols_window = np.roll(self.active_cols_window,-1,axis=0)\n",
    "            self.active_cols_window[-1,:] = 0\n",
    "            self.active_cols_window[-1,activated_cols] = 1\n",
    "\n",
    "        # returning indices of active columns\n",
    "        return activated_cols\n",
    "\n",
    "\n",
    "np.random.seed(seed)\n",
    "my_sp = BoostedSpatialPooler(\n",
    "    train_images[0].size, output_size=10**2, permanence_threshold=.5, output_sparsity=.04, synapse_permanence_deltas=(.1, .02),\n",
    "    receptive_field_sparsity=.8, max_boost_factor=0.5, boost_sliding_window=1000\n",
    ")\n",
    "my_sp.compute(train_images[0], True)"
   ]
  },
  {
   "cell_type": "markdown",
   "metadata": {
    "id": "YP0QRqyKQVba"
   },
   "source": [
    "### 06.1. SP with boosting performance\n",
    "\n",
    "_Дальше все как и в пункте 05.1_\n",
    "\n",
    "Проверь качество работы своей реализации. В комментариях по-прежнему примерные значения для разных `n`, на которые можно попробовать ориентироваться:"
   ]
  },
  {
   "cell_type": "code",
   "execution_count": 27,
   "metadata": {
    "colab": {
     "base_uri": "https://localhost:8080/"
    },
    "executionInfo": {
     "elapsed": 21367,
     "status": "ok",
     "timestamp": 1704287741418,
     "user": {
      "displayName": "Salaar Kabir",
      "userId": "05336106162826019869"
     },
     "user_tz": -180
    },
    "id": "rYR5N0D-QVba",
    "outputId": "e8d3a58b-3066-4e88-d2dc-2e0cc5ed2857"
   },
   "outputs": [
    {
     "name": "stdout",
     "output_type": "stream",
     "text": [
      "Score: 86.6% for n = 1000\n",
      "CPU times: total: 42.9 s\n",
      "Wall time: 50 s\n"
     ]
    },
    {
     "data": {
      "text/plain": [
       "0.866"
      ]
     },
     "execution_count": 27,
     "metadata": {},
     "output_type": "execute_result"
    }
   ],
   "source": [
    "%%time\n",
    "\n",
    "np.random.seed(seed)\n",
    "n = 1000\n",
    "x_tr, y_tr = train_images[:n], train_labels[:n]\n",
    "x_tst, y_tst = test_images[:n], test_labels[:n]\n",
    "\n",
    "sp = BoostedSpatialPooler(\n",
    "    input_size=train_images[0].size,\n",
    "    output_size=30**2,\n",
    "    permanence_threshold=.5,\n",
    "    output_sparsity=.04,\n",
    "    synapse_permanence_deltas=(.1, .03),\n",
    "    receptive_field_sparsity=.8,\n",
    "    max_boost_factor=2,\n",
    "    boost_sliding_window=1000\n",
    ")\n",
    "# 1k: 84.0; 3.24 s\n",
    "# 60k: 91.15; 86 s\n",
    "test_classification_with_sp(x_tr, y_tr, x_tst, y_tst, sp)"
   ]
  },
  {
   "cell_type": "markdown",
   "metadata": {
    "id": "z3auybVYQVbb"
   },
   "source": [
    "- нарисуй гистограмму вероятностей активаций\n",
    "- посчитай энтропию $H = -\\sum p \\cdot \\log p$\n",
    "- сравни с результатами без бустинга - есть какие-то очевидные выводы?"
   ]
  },
  {
   "cell_type": "code",
   "execution_count": 28,
   "metadata": {
    "colab": {
     "base_uri": "https://localhost:8080/",
     "height": 889
    },
    "executionInfo": {
     "elapsed": 1927,
     "status": "ok",
     "timestamp": 1704287743335,
     "user": {
      "displayName": "Salaar Kabir",
      "userId": "05336106162826019869"
     },
     "user_tz": -180
    },
    "id": "QSj6qquqQVbb",
    "outputId": "45ace03f-6d94-4719-e15c-8012b0100a74"
   },
   "outputs": [
    {
     "name": "stdout",
     "output_type": "stream",
     "text": [
      "Entropy: 156.8249\n"
     ]
    },
    {
     "data": {
      "image/png": "[encoded data removed]",
      "text/plain": [
       "<Figure size 1500x1000 with 1 Axes>"
      ]
     },
     "metadata": {},
     "output_type": "display_data"
    }
   ],
   "source": [
    "plot_activation_prob(sp.cols_activation_freq,sp.count)"
   ]
  },
  {
   "cell_type": "markdown",
   "metadata": {
    "id": "NqZvBom9QVbc"
   },
   "source": [
    "Протестируй разные значения `output_size` - например, $[10^2, 15^2,..., 55^2, 60^2]$ и отрисуй график зависимости [качества классификации, но можешь и времени работы тоже].\n",
    "\n",
    "Сравни с результатами без бустинга"
   ]
  },
  {
   "cell_type": "code",
   "execution_count": null,
   "metadata": {
    "colab": {
     "base_uri": "https://localhost:8080/",
     "height": 663
    },
    "executionInfo": {
     "elapsed": 249891,
     "status": "ok",
     "timestamp": 1704287193875,
     "user": {
      "displayName": "Salaar Kabir",
      "userId": "05336106162826019869"
     },
     "user_tz": -180
    },
    "id": "y83KEnPiQVbc",
    "outputId": "e9e77d21-2191-4a90-ec93-5f2d65dfce02"
   },
   "outputs": [],
   "source": []
  },
  {
   "cell_type": "markdown",
   "metadata": {
    "id": "uGe97Ap1QVbd"
   },
   "source": [
    "___\n",
    "__[Опционально]__ можешь ради интереса поиграться с таким параметром как `receptive_field_sparsity`. Возьми в качестве выходного размера `output_size` = $50^2$ и проверь результаты на разных значениях параметра $[0.4, 0.5, ..., 1.0]$ и построй график зависимости."
   ]
  },
  {
   "cell_type": "code",
   "execution_count": null,
   "metadata": {
    "id": "C6xONxM5QVbd"
   },
   "outputs": [],
   "source": [
    "# TODO: test receptive_field_sparsity"
   ]
  },
  {
   "cell_type": "markdown",
   "metadata": {
    "id": "jY0Q1XXcQVbd"
   },
   "source": [
    "## 07. TESTING\n",
    "\n",
    "Дальше просто сравнительное тестирование получившихся результатов."
   ]
  },
  {
   "cell_type": "code",
   "execution_count": null,
   "metadata": {
    "id": "F0P6z6mDQVbe"
   },
   "outputs": [],
   "source": [
    "n = 60000\n",
    "x_tr, y_tr = train_images[:n], train_labels[:n]\n",
    "x_tst, y_tst = test_images[:n], test_labels[:n]"
   ]
  },
  {
   "cell_type": "code",
   "execution_count": null,
   "metadata": {
    "colab": {
     "base_uri": "https://localhost:8080/",
     "height": 461
    },
    "executionInfo": {
     "elapsed": 40505,
     "status": "ok",
     "timestamp": 1703746760776,
     "user": {
      "displayName": "Salaar Kabir",
      "userId": "05336106162826019869"
     },
     "user_tz": -180
    },
    "id": "WQvOZNzwQVbe",
    "outputId": "5bbcd690-e736-4d27-f692-a58c5930d388"
   },
   "outputs": [
    {
     "ename": "KeyboardInterrupt",
     "evalue": "ignored",
     "output_type": "error",
     "traceback": [
      "\u001b[0;31m---------------------------------------------------------------------------\u001b[0m",
      "\u001b[0;31mKeyboardInterrupt\u001b[0m                         Traceback (most recent call last)",
      "\u001b[0;32m<timed exec>\u001b[0m in \u001b[0;36m<module>\u001b[0;34m\u001b[0m\n",
      "\u001b[0;32m<timed exec>\u001b[0m in \u001b[0;36mtest_bare_classification\u001b[0;34m(x_tr, y_tr, x_tst, y_tst)\u001b[0m\n",
      "\u001b[0;32m/usr/local/lib/python3.10/dist-packages/sklearn/linear_model/_logistic.py\u001b[0m in \u001b[0;36mfit\u001b[0;34m(self, X, y, sample_weight)\u001b[0m\n\u001b[1;32m   1289\u001b[0m             \u001b[0mn_threads\u001b[0m \u001b[0;34m=\u001b[0m \u001b[0;36m1\u001b[0m\u001b[0;34m\u001b[0m\u001b[0;34m\u001b[0m\u001b[0m\n\u001b[1;32m   1290\u001b[0m \u001b[0;34m\u001b[0m\u001b[0m\n\u001b[0;32m-> 1291\u001b[0;31m         fold_coefs_ = Parallel(n_jobs=self.n_jobs, verbose=self.verbose, prefer=prefer)(\n\u001b[0m\u001b[1;32m   1292\u001b[0m             path_func(\n\u001b[1;32m   1293\u001b[0m                 \u001b[0mX\u001b[0m\u001b[0;34m,\u001b[0m\u001b[0;34m\u001b[0m\u001b[0;34m\u001b[0m\u001b[0m\n",
      "\u001b[0;32m/usr/local/lib/python3.10/dist-packages/sklearn/utils/parallel.py\u001b[0m in \u001b[0;36m__call__\u001b[0;34m(self, iterable)\u001b[0m\n\u001b[1;32m     61\u001b[0m             \u001b[0;32mfor\u001b[0m \u001b[0mdelayed_func\u001b[0m\u001b[0;34m,\u001b[0m \u001b[0margs\u001b[0m\u001b[0;34m,\u001b[0m \u001b[0mkwargs\u001b[0m \u001b[0;32min\u001b[0m \u001b[0miterable\u001b[0m\u001b[0;34m\u001b[0m\u001b[0;34m\u001b[0m\u001b[0m\n\u001b[1;32m     62\u001b[0m         )\n\u001b[0;32m---> 63\u001b[0;31m         \u001b[0;32mreturn\u001b[0m \u001b[0msuper\u001b[0m\u001b[0;34m(\u001b[0m\u001b[0;34m)\u001b[0m\u001b[0;34m.\u001b[0m\u001b[0m__call__\u001b[0m\u001b[0;34m(\u001b[0m\u001b[0miterable_with_config\u001b[0m\u001b[0;34m)\u001b[0m\u001b[0;34m\u001b[0m\u001b[0;34m\u001b[0m\u001b[0m\n\u001b[0m\u001b[1;32m     64\u001b[0m \u001b[0;34m\u001b[0m\u001b[0m\n\u001b[1;32m     65\u001b[0m \u001b[0;34m\u001b[0m\u001b[0m\n",
      "\u001b[0;32m/usr/local/lib/python3.10/dist-packages/joblib/parallel.py\u001b[0m in \u001b[0;36m__call__\u001b[0;34m(self, iterable)\u001b[0m\n\u001b[1;32m   1950\u001b[0m         \u001b[0mnext\u001b[0m\u001b[0;34m(\u001b[0m\u001b[0moutput\u001b[0m\u001b[0;34m)\u001b[0m\u001b[0;34m\u001b[0m\u001b[0;34m\u001b[0m\u001b[0m\n\u001b[1;32m   1951\u001b[0m \u001b[0;34m\u001b[0m\u001b[0m\n\u001b[0;32m-> 1952\u001b[0;31m         \u001b[0;32mreturn\u001b[0m \u001b[0moutput\u001b[0m \u001b[0;32mif\u001b[0m \u001b[0mself\u001b[0m\u001b[0;34m.\u001b[0m\u001b[0mreturn_generator\u001b[0m \u001b[0;32melse\u001b[0m \u001b[0mlist\u001b[0m\u001b[0;34m(\u001b[0m\u001b[0moutput\u001b[0m\u001b[0;34m)\u001b[0m\u001b[0;34m\u001b[0m\u001b[0;34m\u001b[0m\u001b[0m\n\u001b[0m\u001b[1;32m   1953\u001b[0m \u001b[0;34m\u001b[0m\u001b[0m\n\u001b[1;32m   1954\u001b[0m     \u001b[0;32mdef\u001b[0m \u001b[0m__repr__\u001b[0m\u001b[0;34m(\u001b[0m\u001b[0mself\u001b[0m\u001b[0;34m)\u001b[0m\u001b[0;34m:\u001b[0m\u001b[0;34m\u001b[0m\u001b[0;34m\u001b[0m\u001b[0m\n",
      "\u001b[0;32m/usr/local/lib/python3.10/dist-packages/joblib/parallel.py\u001b[0m in \u001b[0;36m_get_outputs\u001b[0;34m(self, iterator, pre_dispatch)\u001b[0m\n\u001b[1;32m   1593\u001b[0m \u001b[0;34m\u001b[0m\u001b[0m\n\u001b[1;32m   1594\u001b[0m             \u001b[0;32mwith\u001b[0m \u001b[0mself\u001b[0m\u001b[0;34m.\u001b[0m\u001b[0m_backend\u001b[0m\u001b[0;34m.\u001b[0m\u001b[0mretrieval_context\u001b[0m\u001b[0;34m(\u001b[0m\u001b[0;34m)\u001b[0m\u001b[0;34m:\u001b[0m\u001b[0;34m\u001b[0m\u001b[0;34m\u001b[0m\u001b[0m\n\u001b[0;32m-> 1595\u001b[0;31m                 \u001b[0;32myield\u001b[0m \u001b[0;32mfrom\u001b[0m \u001b[0mself\u001b[0m\u001b[0;34m.\u001b[0m\u001b[0m_retrieve\u001b[0m\u001b[0;34m(\u001b[0m\u001b[0;34m)\u001b[0m\u001b[0;34m\u001b[0m\u001b[0;34m\u001b[0m\u001b[0m\n\u001b[0m\u001b[1;32m   1596\u001b[0m \u001b[0;34m\u001b[0m\u001b[0m\n\u001b[1;32m   1597\u001b[0m         \u001b[0;32mexcept\u001b[0m \u001b[0mGeneratorExit\u001b[0m\u001b[0;34m:\u001b[0m\u001b[0;34m\u001b[0m\u001b[0;34m\u001b[0m\u001b[0m\n",
      "\u001b[0;32m/usr/local/lib/python3.10/dist-packages/joblib/parallel.py\u001b[0m in \u001b[0;36m_retrieve\u001b[0;34m(self)\u001b[0m\n\u001b[1;32m   1705\u001b[0m                 (self._jobs[0].get_status(\n\u001b[1;32m   1706\u001b[0m                     timeout=self.timeout) == TASK_PENDING)):\n\u001b[0;32m-> 1707\u001b[0;31m                 \u001b[0mtime\u001b[0m\u001b[0;34m.\u001b[0m\u001b[0msleep\u001b[0m\u001b[0;34m(\u001b[0m\u001b[0;36m0.01\u001b[0m\u001b[0;34m)\u001b[0m\u001b[0;34m\u001b[0m\u001b[0;34m\u001b[0m\u001b[0m\n\u001b[0m\u001b[1;32m   1708\u001b[0m                 \u001b[0;32mcontinue\u001b[0m\u001b[0;34m\u001b[0m\u001b[0;34m\u001b[0m\u001b[0m\n\u001b[1;32m   1709\u001b[0m \u001b[0;34m\u001b[0m\u001b[0m\n",
      "\u001b[0;31mKeyboardInterrupt\u001b[0m: "
     ]
    }
   ],
   "source": [
    "%%time\n",
    "\n",
    "def test_bare_classification(x_tr,  y_tr, x_tst, y_tst):\n",
    "    linreg = LogisticRegression(tol=.05, max_iter=LBFGS_MAX_ITER, multi_class='multinomial', penalty='l2', solver='lbfgs', n_jobs=3)\n",
    "    linreg.fit(x_tr, y_tr)\n",
    "\n",
    "    score = linreg.predict(x_tst) == y_tst\n",
    "    score = score.mean()\n",
    "    print(f'Score: {100 * score:.1f}%')\n",
    "    return score\n",
    "\n",
    "np.random.seed(seed)\n",
    "# 92.11; 38s\n",
    "test_bare_classification(x_tr, y_tr, x_tst, y_tst)"
   ]
  },
  {
   "cell_type": "code",
   "execution_count": null,
   "metadata": {
    "colab": {
     "base_uri": "https://localhost:8080/",
     "height": 350
    },
    "executionInfo": {
     "elapsed": 12858,
     "status": "ok",
     "timestamp": 1703746773626,
     "user": {
      "displayName": "Salaar Kabir",
      "userId": "05336106162826019869"
     },
     "user_tz": -180
    },
    "id": "eflIwkbJQVbe",
    "outputId": "046bd037-3d77-4fd9-f6e3-db7e0c0deda8"
   },
   "outputs": [
    {
     "ename": "KeyboardInterrupt",
     "evalue": "ignored",
     "output_type": "error",
     "traceback": [
      "\u001b[0;31m---------------------------------------------------------------------------\u001b[0m",
      "\u001b[0;31mKeyboardInterrupt\u001b[0m                         Traceback (most recent call last)",
      "\u001b[0;32m<timed exec>\u001b[0m in \u001b[0;36m<module>\u001b[0;34m\u001b[0m\n",
      "\u001b[0;32m<timed exec>\u001b[0m in \u001b[0;36mtest_classification_with_sp\u001b[0;34m(x_tr, y_tr, x_tst, y_tst, sp)\u001b[0m\n",
      "\u001b[0;32m<timed exec>\u001b[0m in \u001b[0;36mencode_to_csr_with_sp\u001b[0;34m(images, sp, learn)\u001b[0m\n",
      "\u001b[0;32m<ipython-input-10-d0bc522781db>\u001b[0m in \u001b[0;36mcompute\u001b[0;34m(self, dense_sdr, learn)\u001b[0m\n\u001b[1;32m     57\u001b[0m                 \u001b[0mself\u001b[0m\u001b[0;34m.\u001b[0m\u001b[0msynapses_permanence\u001b[0m\u001b[0;34m[\u001b[0m\u001b[0mcol\u001b[0m\u001b[0;34m,\u001b[0m \u001b[0msynapses\u001b[0m\u001b[0;34m[\u001b[0m\u001b[0mcol\u001b[0m\u001b[0;34m,\u001b[0m\u001b[0;34m:\u001b[0m\u001b[0;34m]\u001b[0m\u001b[0;34m==\u001b[0m\u001b[0;36m1\u001b[0m\u001b[0;34m]\u001b[0m \u001b[0;34m+=\u001b[0m \u001b[0mself\u001b[0m\u001b[0;34m.\u001b[0m\u001b[0mp_increment\u001b[0m\u001b[0;34m\u001b[0m\u001b[0;34m\u001b[0m\u001b[0m\n\u001b[1;32m     58\u001b[0m                 \u001b[0;31m# decrementing permanence for inactive synapse\u001b[0m\u001b[0;34m\u001b[0m\u001b[0;34m\u001b[0m\u001b[0m\n\u001b[0;32m---> 59\u001b[0;31m                 \u001b[0mself\u001b[0m\u001b[0;34m.\u001b[0m\u001b[0msynapses_permanence\u001b[0m\u001b[0;34m[\u001b[0m\u001b[0mcol\u001b[0m\u001b[0;34m,\u001b[0m \u001b[0msynapses\u001b[0m\u001b[0;34m[\u001b[0m\u001b[0mcol\u001b[0m\u001b[0;34m,\u001b[0m\u001b[0;34m:\u001b[0m\u001b[0;34m]\u001b[0m\u001b[0;34m==\u001b[0m\u001b[0;36m0\u001b[0m\u001b[0;34m]\u001b[0m \u001b[0;34m-=\u001b[0m \u001b[0mself\u001b[0m\u001b[0;34m.\u001b[0m\u001b[0mp_decrement\u001b[0m\u001b[0;34m\u001b[0m\u001b[0;34m\u001b[0m\u001b[0m\n\u001b[0m\u001b[1;32m     60\u001b[0m \u001b[0;34m\u001b[0m\u001b[0m\n\u001b[1;32m     61\u001b[0m             \u001b[0;31m# clipping permanence values to be within [0,1]\u001b[0m\u001b[0;34m\u001b[0m\u001b[0;34m\u001b[0m\u001b[0m\n",
      "\u001b[0;31mKeyboardInterrupt\u001b[0m: "
     ]
    }
   ],
   "source": [
    "%%time\n",
    "\n",
    "np.random.seed(seed)\n",
    "sp = LearnableSpatialPooler(\n",
    "    input_size=train_images[0].size,\n",
    "    output_size=30**2,\n",
    "    permanence_threshold=.5,\n",
    "    output_sparsity=.04,\n",
    "    synapse_permanence_deltas=(.1, .03),\n",
    "    receptive_field_sparsity=.8,\n",
    ")\n",
    "# 89.3; 72 s\n",
    "test_classification_with_sp(x_tr, y_tr, x_tst, y_tst, sp)"
   ]
  },
  {
   "cell_type": "code",
   "execution_count": null,
   "metadata": {
    "id": "Y32r9Rn7QVbf"
   },
   "outputs": [],
   "source": [
    "%%time\n",
    "\n",
    "np.random.seed(seed)\n",
    "sp = LearnableSpatialPooler(\n",
    "    input_size=train_images[0].size,\n",
    "    output_size=50**2,\n",
    "    permanence_threshold=.5,\n",
    "    output_sparsity=.04,\n",
    "    synapse_permanence_deltas=(.1, .03),\n",
    "    receptive_field_sparsity=.8,\n",
    ")\n",
    "# 93.15; 221 s\n",
    "test_classification_with_sp(x_tr, y_tr, x_tst, y_tst, sp)"
   ]
  },
  {
   "cell_type": "code",
   "execution_count": null,
   "metadata": {
    "id": "vht05hfgQVbf"
   },
   "outputs": [],
   "source": [
    "%%time\n",
    "\n",
    "np.random.seed(seed)\n",
    "sp = BoostedSpatialPooler(\n",
    "    input_size=train_images[0].size,\n",
    "    output_size=30**2,\n",
    "    permanence_threshold=.5,\n",
    "    output_sparsity=.04,\n",
    "    synapse_permanence_deltas=(.1, .03),\n",
    "    receptive_field_sparsity=.8,\n",
    "    max_boost_factor=2,\n",
    "    boost_sliding_window=1000\n",
    ")\n",
    "# 91.15; 86 s\n",
    "test_classification_with_sp(x_tr, y_tr, x_tst, y_tst, sp)"
   ]
  },
  {
   "cell_type": "code",
   "execution_count": null,
   "metadata": {
    "id": "9gULCALZQVbg"
   },
   "outputs": [],
   "source": [
    "%%time\n",
    "\n",
    "np.random.seed(seed)\n",
    "sp = BoostedSpatialPooler(\n",
    "    input_size=train_images[0].size,\n",
    "    output_size=50**2,\n",
    "    permanence_threshold=.5,\n",
    "    output_sparsity=.04,\n",
    "    synapse_permanence_deltas=(.1, .03),\n",
    "    receptive_field_sparsity=.8,\n",
    "    max_boost_factor=2,\n",
    "    boost_sliding_window=1000\n",
    ")\n",
    "# 94.44; 238 s\n",
    "test_classification_with_sp(x_tr, y_tr, x_tst, y_tst, sp)"
   ]
  },
  {
   "cell_type": "markdown",
   "metadata": {
    "id": "7FuAhn8LQVbg"
   },
   "source": [
    "## Improve SP implementation\n",
    "\n",
    "Теперь, когда у тебя есть готовая реализация SpatialPooler, время для улучшения/ускорения реализации. Попробуй выполнить задания ниже.\n",
    "\n",
    "1. **Векторизация**: нужна векторизованная реализация, которая будет эффективно вычислять overlap score, boosting и все остальное. Важно ответить себе на вопрос, как организовать хранение рецептивных полей нейронов SP, как делать pattern matching для входного паттерна, как эффективно делать шаг обновления. Придется поиграться с разными реализациями, измеряя скорость их работы. Ну и вообще, сейчас самое время причесать свою реализациюи довести ее до финального вида.\n",
    "\n",
    "2. **Разреженные рецептивные поля**: можно ли улучшить качество работы SP, если уменьшить размеры рецептивных полей его нейронов (но возможно увеличив количество нейронов)? Зафиксируй какое-нибудь определенный лимит времени работы SP и попробуй варьировать эти два гиперпараметра (`receptive_field_sparsity` и `output_size`), чтобы оставаться в рамках лимита. Нарисуй график зависимости качества от этих двух параметров.\n",
    "\n",
    "3. [**СЛОЖНО**] **Newborn-stage**: В [On the importance of the newborn stage when learning patterns with the Spatial Pooler](https://link.springer.com/article/10.1007/s42979-022-01066-4) описана идея, что бустинг, вообще говоря, имеет и негативную сторону — он имеет смысл лишь на ранних стадиях формирования рецептивных полей нейронов. Но далее он только влечет к нестабильности (способствует дрифту кодировки на выходе из SP за счет переучивания его нейронов). Предлагается взять эту идею (статью подробно читать для этого не нужно) и добавить newborn stage в SP. Для этого сделай отдельную реализацию, чтобы у тебя была отдельная финальная версия без этой фичи, и отдельная уже с. Newborn stage будет разделен на K этапов, в процессе которых\n",
    "    1. Бустинг будет постепенно снижаться (например, линейно) к нулю\n",
    "    2. Рецептивные поля будут уменьшаться. Таким образом SP будет инициализироваться с большими рецептивными полями, но в процессе newborn stage они будут постепенно пруниться до целевых значений. Это позволит нам во взрослой стадии иметь быстрый (за счет маленьких рецептивных полей) SP с хорошо настроенными рецептивными полями, из-за чего качество будет не сильно хуже, чем если бы мы не прунили.\n",
    "   \n",
    "   Протестируй данную реализацию с разными настройками начального и конечного размера рецептивных полей."
   ]
  },
  {
   "cell_type": "code",
   "execution_count": null,
   "metadata": {
    "id": "NOSE1iGRQVbh"
   },
   "outputs": [],
   "source": []
  }
 ],
 "metadata": {
  "colab": {
   "provenance": []
  },
  "kernelspec": {
   "display_name": "Python 3 (ipykernel)",
   "language": "python",
   "name": "python3"
  },
  "language_info": {
   "codemirror_mode": {
    "name": "ipython",
    "version": 3
   },
   "file_extension": ".py",
   "mimetype": "text/x-python",
   "name": "python",
   "nbconvert_exporter": "python",
   "pygments_lexer": "ipython3",
   "version": "3.12.1"
  }
 },
 "nbformat": 4,
 "nbformat_minor": 4
}
